{
  "cells": [
    {
      "cell_type": "markdown",
      "metadata": {},
      "source": [
        "\n# Gridding 2D vectors\n\nWe can use :class:`verde.Vector` to simultaneously process and grid all\ncomponents of vector data. Each component is processed and gridded separately\n(see [Erizo](https://github.com/fatiando/erizo)_ for an elastically coupled\nalternative) but we have the convenience of dealing with a single estimator.\n:class:`verde.Vector` can be combined with :class:`verde.Trend`,\n:class:`verde.Spline`, and :class:`verde.Chain` to create a full processing\npipeline.\n"
      ]
    },
    {
      "cell_type": "code",
      "execution_count": null,
      "metadata": {
        "collapsed": false
      },
      "outputs": [],
      "source": [
        "import cartopy.crs as ccrs\nimport matplotlib.pyplot as plt\nimport numpy as np\nimport pyproj\n\nimport verde as vd\n\n# Fetch the wind speed data from Texas.\ndata = vd.datasets.fetch_texas_wind()\nprint(data.head())\n\n# Separate out some of the data into utility variables\ncoordinates = (data.longitude.values, data.latitude.values)\nregion = vd.get_region(coordinates)\n# Use a Mercator projection because Spline is a Cartesian gridder\nprojection = pyproj.Proj(proj=\"merc\", lat_ts=data.latitude.mean())\n\n# Split the data into a training and testing set. We'll fit the gridder on the\n# training set and use the testing set to evaluate how well the gridder is\n# performing.\ntrain, test = vd.train_test_split(\n    projection(*coordinates),\n    (data.wind_speed_east_knots, data.wind_speed_north_knots),\n    random_state=2,\n)\n\n# We'll make a 20 arc-minute grid\nspacing = 20 / 60\n\n# Chain together a blocked mean to avoid aliasing, a polynomial trend (Spline\n# usually requires de-trended data), and finally a Spline for each component.\n# Notice that BlockReduce can work on multicomponent data without the use of\n# Vector.\nchain = vd.Chain(\n    [\n        (\"mean\", vd.BlockReduce(np.mean, spacing * 111e3)),\n        (\"trend\", vd.Vector([vd.Trend(degree=1) for i in range(2)])),\n        (\n            \"spline\",\n            vd.Vector([vd.Spline(damping=1e-10) for i in range(2)]),\n        ),\n    ]\n)\nprint(chain)\n\n# Fit on the training data\nchain.fit(*train)\n# And score on the testing data. The best possible score is 1, meaning a\n# perfect prediction of the test data.\nscore = chain.score(*test)\nprint(\"Cross-validation R^2 score: {:.2f}\".format(score))\n\n# Interpolate the wind speed onto a regular geographic grid and mask the data\n# that are outside of the convex hull of the data points.\ngrid_full = chain.grid(\n    region=region,\n    spacing=spacing,\n    projection=projection,\n    dims=[\"latitude\", \"longitude\"],\n)\ngrid = vd.convexhull_mask(coordinates, grid=grid_full, projection=projection)\n\n# Make maps of the original and gridded wind speed\nplt.figure(figsize=(6, 6))\nax = plt.axes(projection=ccrs.Mercator())\nax.set_title(\"Uncoupled spline gridding of wind speed\")\ntmp = ax.quiver(\n    grid.longitude.values,\n    grid.latitude.values,\n    grid.east_component.values,\n    grid.north_component.values,\n    width=0.0015,\n    scale=100,\n    color=\"tab:blue\",\n    transform=ccrs.PlateCarree(),\n    label=\"Interpolated\",\n)\nax.quiver(\n    *coordinates,\n    data.wind_speed_east_knots.values,\n    data.wind_speed_north_knots.values,\n    width=0.003,\n    scale=100,\n    color=\"tab:red\",\n    transform=ccrs.PlateCarree(),\n    label=\"Original\",\n)\nax.quiverkey(tmp, 0.17, 0.23, 5, label=\"5 knots\", coordinates=\"figure\")\nax.legend(loc=\"lower left\")\n# Use an utility function to add tick labels and land and ocean features to the\n# map.\nvd.datasets.setup_texas_wind_map(ax)\nplt.show()"
      ]
    }
  ],
  "metadata": {
    "kernelspec": {
      "display_name": "Python 3",
      "language": "python",
      "name": "python3"
    },
    "language_info": {
      "codemirror_mode": {
        "name": "ipython",
        "version": 3
      },
      "file_extension": ".py",
      "mimetype": "text/x-python",
      "name": "python",
      "nbconvert_exporter": "python",
      "pygments_lexer": "ipython3",
      "version": "3.12.11"
    }
  },
  "nbformat": 4,
  "nbformat_minor": 0
}