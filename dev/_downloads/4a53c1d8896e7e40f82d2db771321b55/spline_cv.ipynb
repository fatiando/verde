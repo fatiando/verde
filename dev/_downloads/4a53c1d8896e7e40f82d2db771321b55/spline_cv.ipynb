{
  "cells": [
    {
      "cell_type": "code",
      "execution_count": null,
      "metadata": {
        "collapsed": false
      },
      "outputs": [],
      "source": [
        "%matplotlib inline"
      ]
    },
    {
      "cell_type": "markdown",
      "metadata": {},
      "source": [
        "\n# Gridding with splines (cross-validated)\n\nThe :class:`verde.Spline` has two main parameters that need to be configured:\n\n1. ``mindist``: the minimum distance between forces and data points\n2. ``damping``: the regularization parameter controlling smoothness\n\nThese parameters can be determined through cross-validation (see\n`model_selection`) automatically using :class:`verde.SplineCV`. It is very\nsimilar to :class:`verde.Spline` but takes a set of parameter values instead of\nonly one value. When calling :meth:`verde.SplineCV.fit`, the class will:\n\n1. Create a spline for each combination of the input parameter sets\n2. Calculate the cross-validation score for each spline using\n   :func:`verde.cross_val_score`\n3. Pick the spline with the highest score\n"
      ]
    },
    {
      "cell_type": "code",
      "execution_count": null,
      "metadata": {
        "collapsed": false
      },
      "outputs": [],
      "source": [
        "import cartopy.crs as ccrs\nimport matplotlib.pyplot as plt\nimport pyproj\n\nimport verde as vd\n\n# We'll test this on the air temperature data from Texas\ndata = vd.datasets.fetch_texas_wind()\ncoordinates = (data.longitude.values, data.latitude.values)\nregion = vd.get_region(coordinates)\n\n# Use a Mercator projection for our Cartesian gridder\nprojection = pyproj.Proj(proj=\"merc\", lat_ts=data.latitude.mean())\n\n# The output grid spacing will 15 arc-minutes\nspacing = 15 / 60\n\n# This spline will automatically perform cross-validation and search for the\n# optimal parameter configuration.\nspline = vd.SplineCV(dampings=(1e-5, 1e-3, 1e-1), mindists=(10e3, 50e3, 100e3))\n\n# Fit the model on the data. Under the hood, the class will perform K-fold\n# cross-validation for each the 3*3=9 parameter combinations and pick the one\n# with the highest R\u00b2 score.\nspline.fit(projection(*coordinates), data.air_temperature_c)\n\n# We can show the best R\u00b2 score obtained in the cross-validation\nprint(\"\\nScore: {:.3f}\".format(spline.scores_.max()))\n\n# And then the best spline parameters that produced this high score.\nprint(\"\\nBest spline configuration:\")\nprint(\"  mindist:\", spline.mindist_)\nprint(\"  damping:\", spline.damping_)\n\n# Now we can create a geographic grid of air temperature by providing a\n# projection function to the grid method and mask points that are too far from\n# the observations\ngrid_full = spline.grid(\n    region=region,\n    spacing=spacing,\n    projection=projection,\n    dims=[\"latitude\", \"longitude\"],\n    data_names=\"temperature\",\n)\ngrid = vd.distance_mask(\n    coordinates, maxdist=3 * spacing * 111e3, grid=grid_full, projection=projection\n)\n\n# Plot the grid and the original data points\nplt.figure(figsize=(8, 6))\nax = plt.axes(projection=ccrs.Mercator())\nax.set_title(\"Air temperature gridded with biharmonic spline\")\nax.plot(*coordinates, \".k\", markersize=1, transform=ccrs.PlateCarree())\ntmp = grid.temperature.plot.pcolormesh(\n    ax=ax, cmap=\"plasma\", transform=ccrs.PlateCarree(), add_colorbar=False\n)\nplt.colorbar(tmp).set_label(\"Air temperature (C)\")\n# Use an utility function to add tick labels and land and ocean features to the\n# map.\nvd.datasets.setup_texas_wind_map(ax, region=region)\nplt.show()"
      ]
    }
  ],
  "metadata": {
    "kernelspec": {
      "display_name": "Python 3",
      "language": "python",
      "name": "python3"
    },
    "language_info": {
      "codemirror_mode": {
        "name": "ipython",
        "version": 3
      },
      "file_extension": ".py",
      "mimetype": "text/x-python",
      "name": "python",
      "nbconvert_exporter": "python",
      "pygments_lexer": "ipython3",
      "version": "3.9.12"
    }
  },
  "nbformat": 4,
  "nbformat_minor": 0
}