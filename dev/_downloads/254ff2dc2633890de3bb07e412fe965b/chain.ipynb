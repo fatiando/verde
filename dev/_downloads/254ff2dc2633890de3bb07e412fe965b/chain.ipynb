{
  "cells": [
    {
      "cell_type": "code",
      "execution_count": null,
      "metadata": {
        "collapsed": false
      },
      "outputs": [],
      "source": [
        "%matplotlib inline"
      ]
    },
    {
      "cell_type": "markdown",
      "metadata": {},
      "source": [
        "\n# Chaining Operations\n\nOften, a data processing pipeline looks like the following:\n\n#. Apply a blocked mean or median to the data\n#. Remove a trend from the blocked data\n#. Fit a spline to the residual of the trend\n#. Grid using the spline and restore the trend\n\nThe :class:`verde.Chain` class allows us to created gridders that perform\nmultiple operations on data. Each step in the chain filters the input and\npasses the result along to the next step. For gridders and trend estimators,\nfiltering means fitting the model and passing along the residuals (input data\nminus predicted data). When predicting data, the predictions of each step are\nadded together.\n\nOther operations, like :class:`verde.BlockReduce` and :class:`verde.BlockMean`\nchange the input data values and the coordinates but don't impact the\npredictions because they don't implement the\n:meth:`~verde.base.BaseGridder.predict` method.\n\n<div class=\"alert alert-info\"><h4>Note</h4><p>The :class:`~verde.Chain` class was inspired by the\n    :class:`sklearn.pipeline.Pipeline` class, which doesn't serve our purposes\n    because it only affects the feature matrix, not what we would call *data*\n    (the target vector).</p></div>\n\nFor example, let's create a pipeline to grid our sample bathymetry data.\n"
      ]
    },
    {
      "cell_type": "code",
      "execution_count": null,
      "metadata": {
        "collapsed": false
      },
      "outputs": [],
      "source": [
        "import matplotlib.pyplot as plt\nimport numpy as np\nimport pygmt\nimport pyproj\n\nimport verde as vd\n\ndata = vd.datasets.fetch_baja_bathymetry()\nregion = vd.get_region((data.longitude, data.latitude))\n# The desired grid spacing in degrees\nspacing = 10 / 60\n# Use Mercator projection because Spline is a Cartesian gridder\nprojection = pyproj.Proj(proj=\"merc\", lat_ts=data.latitude.mean())\nproj_coords = projection(data.longitude.values, data.latitude.values)\n\nfig = pygmt.Figure()\nfig.coast(region=region, projection=\"M20c\", land=\"#666666\")\npygmt.makecpt(cmap=\"viridis\", series=[data.bathymetry_m.min(), data.bathymetry_m.max()])\nfig.plot(\n    x=data.longitude,\n    y=data.latitude,\n    color=data.bathymetry_m,\n    cmap=True,\n    style=\"c0.05c\",\n)\nfig.basemap(frame=True)\nfig.colorbar(frame='af+l\"bathymetric depth [m]\"')\nfig.show()"
      ]
    },
    {
      "cell_type": "markdown",
      "metadata": {},
      "source": [
        "We'll create a chain that applies a blocked median to the data, fits a\npolynomial trend, and then fits a standard gridder to the trend residuals.\n\n"
      ]
    },
    {
      "cell_type": "code",
      "execution_count": null,
      "metadata": {
        "collapsed": false
      },
      "outputs": [],
      "source": [
        "chain = vd.Chain(\n    [\n        (\"reduce\", vd.BlockReduce(np.median, spacing * 111e3)),\n        (\"trend\", vd.Trend(degree=1)),\n        (\"spline\", vd.Spline()),\n    ]\n)\nprint(chain)"
      ]
    },
    {
      "cell_type": "markdown",
      "metadata": {},
      "source": [
        "Calling :meth:`verde.Chain.fit` will automatically run the data through the\nchain:\n\n#. Apply the blocked median to the input data\n#. Fit a trend to the blocked data and output the residuals\n#. Fit the spline to the trend residuals\n\n"
      ]
    },
    {
      "cell_type": "code",
      "execution_count": null,
      "metadata": {
        "collapsed": false
      },
      "outputs": [],
      "source": [
        "chain.fit(proj_coords, data.bathymetry_m)"
      ]
    },
    {
      "cell_type": "markdown",
      "metadata": {},
      "source": [
        "Now that the data has been through the chain, calling\n:meth:`verde.Chain.predict` will sum the results of every step in the chain\nthat has a ``predict`` method. In our case, that will be only the\n:class:`~verde.Trend` and :class:`~verde.Spline`.\n\nWe can verify the quality of the fit by inspecting a histogram of the\nresiduals with respect to the original data. Remember that our spline and\ntrend were fit on decimated data, not the original data, so the fit won't be\nperfect.\n\n"
      ]
    },
    {
      "cell_type": "code",
      "execution_count": null,
      "metadata": {
        "collapsed": false
      },
      "outputs": [],
      "source": [
        "residuals = data.bathymetry_m - chain.predict(proj_coords)\n\nplt.figure()\nplt.title(\"Histogram of fit residuals\")\nplt.hist(residuals, bins=\"auto\", density=True)\nplt.xlabel(\"residuals (m)\")\nplt.xlim(-1500, 1500)\nplt.show()"
      ]
    },
    {
      "cell_type": "markdown",
      "metadata": {},
      "source": [
        "Likewise, :meth:`verde.Chain.grid` creates a grid of the combined trend and\nspline predictions. This is equivalent to a *remove-compute-restore*\nprocedure that should be familiar to the geodesists among us.\n\n"
      ]
    },
    {
      "cell_type": "code",
      "execution_count": null,
      "metadata": {
        "collapsed": false
      },
      "outputs": [],
      "source": [
        "grid = chain.grid(\n    region=region,\n    spacing=spacing,\n    projection=projection,\n    dims=[\"latitude\", \"longitude\"],\n    data_names=\"bathymetry\",\n)\ngrid = vd.distance_mask(\n    data_coordinates=(data.longitude, data.latitude),\n    maxdist=spacing * 111e3,\n    grid=grid,\n    projection=projection,\n)\ngrid"
      ]
    },
    {
      "cell_type": "markdown",
      "metadata": {},
      "source": [
        "Finally, we can plot the resulting grid:\n\n"
      ]
    },
    {
      "cell_type": "code",
      "execution_count": null,
      "metadata": {
        "collapsed": false
      },
      "outputs": [],
      "source": [
        "fig = pygmt.Figure()\nfig.coast(region=region, projection=\"M20c\", land=\"#666666\")\nfig.grdimage(\n    grid=grid.bathymetry,\n    cmap=\"viridis\",\n    nan_transparent=True,\n)\nfig.basemap(frame=True)\nfig.colorbar(frame='af+l\"bathymetric depth [m]\"')\nfig.show()"
      ]
    },
    {
      "cell_type": "markdown",
      "metadata": {},
      "source": [
        "Each component of the chain can be accessed separately using the\n``named_steps`` attribute. It's a dictionary with keys and values matching\nthe inputs given to the :class:`~verde.Chain`.\n\n"
      ]
    },
    {
      "cell_type": "code",
      "execution_count": null,
      "metadata": {
        "collapsed": false
      },
      "outputs": [],
      "source": [
        "print(chain.named_steps[\"trend\"])\nprint(chain.named_steps[\"spline\"])"
      ]
    },
    {
      "cell_type": "markdown",
      "metadata": {},
      "source": [
        "All gridders and estimators in the chain have been fitted and can be used to\ngenerate grids and predictions. For example, we can get a grid of the\nestimated trend:\n\n"
      ]
    },
    {
      "cell_type": "code",
      "execution_count": null,
      "metadata": {
        "collapsed": false
      },
      "outputs": [],
      "source": [
        "grid_trend = chain.named_steps[\"trend\"].grid(\n    region=region,\n    spacing=spacing,\n    projection=projection,\n    dims=[\"latitude\", \"longitude\"],\n    data_names=\"bathymetry\",\n)\ngrid_trend = vd.distance_mask(\n    data_coordinates=(data.longitude, data.latitude),\n    maxdist=spacing * 111e3,\n    grid=grid_trend,\n    projection=projection,\n)\ngrid_trend"
      ]
    },
    {
      "cell_type": "code",
      "execution_count": null,
      "metadata": {
        "collapsed": false
      },
      "outputs": [],
      "source": [
        "fig = pygmt.Figure()\nfig.coast(region=region, projection=\"M20c\", land=\"#666666\")\nfig.grdimage(\n    grid=grid_trend.bathymetry,\n    cmap=\"viridis\",\n    nan_transparent=True,\n)\nfig.basemap(frame=True)\nfig.colorbar(frame='af+l\"bathymetric depth [m]\"')\nfig.show()"
      ]
    }
  ],
  "metadata": {
    "kernelspec": {
      "display_name": "Python 3",
      "language": "python",
      "name": "python3"
    },
    "language_info": {
      "codemirror_mode": {
        "name": "ipython",
        "version": 3
      },
      "file_extension": ".py",
      "mimetype": "text/x-python",
      "name": "python",
      "nbconvert_exporter": "python",
      "pygments_lexer": "ipython3",
      "version": "3.9.13"
    }
  },
  "nbformat": 4,
  "nbformat_minor": 0
}