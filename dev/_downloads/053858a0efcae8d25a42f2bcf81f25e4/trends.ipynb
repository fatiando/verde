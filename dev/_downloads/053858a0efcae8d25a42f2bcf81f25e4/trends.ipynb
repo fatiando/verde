{
  "cells": [
    {
      "cell_type": "code",
      "execution_count": null,
      "metadata": {
        "collapsed": false
      },
      "outputs": [],
      "source": [
        "%matplotlib inline"
      ]
    },
    {
      "cell_type": "markdown",
      "metadata": {},
      "source": [
        "\n# Trend Estimation\n\nTrend estimation and removal is a common operation, particularly when dealing\nwith geophysical data. Moreover, some of the interpolation methods, like\n:class:`verde.Spline`, can struggle with long-wavelength trends in the data.\nThe :class:`verde.Trend` class fits a 2D polynomial trend of arbitrary degree\nto the data and can be used to remove it.\n"
      ]
    },
    {
      "cell_type": "code",
      "execution_count": null,
      "metadata": {
        "collapsed": false
      },
      "outputs": [],
      "source": [
        "import cartopy.crs as ccrs\nimport matplotlib.pyplot as plt\nimport numpy as np\n\nimport verde as vd"
      ]
    },
    {
      "cell_type": "markdown",
      "metadata": {},
      "source": [
        "Our sample air temperature data from Texas has a clear trend from land to the\nocean:\n\n"
      ]
    },
    {
      "cell_type": "code",
      "execution_count": null,
      "metadata": {
        "collapsed": false
      },
      "outputs": [],
      "source": [
        "data = vd.datasets.fetch_texas_wind()\ncoordinates = (data.longitude, data.latitude)\n\nplt.figure(figsize=(8, 6))\nax = plt.axes(projection=ccrs.Mercator())\nplt.scatter(\n    data.longitude,\n    data.latitude,\n    c=data.air_temperature_c,\n    s=100,\n    cmap=\"plasma\",\n    transform=ccrs.PlateCarree(),\n)\nplt.colorbar().set_label(\"Air temperature (C)\")\nvd.datasets.setup_texas_wind_map(ax)\nplt.show()"
      ]
    },
    {
      "cell_type": "markdown",
      "metadata": {},
      "source": [
        "We can estimate the polynomial coefficients for this trend:\n\n"
      ]
    },
    {
      "cell_type": "code",
      "execution_count": null,
      "metadata": {
        "collapsed": false
      },
      "outputs": [],
      "source": [
        "trend = vd.Trend(degree=1).fit(coordinates, data.air_temperature_c)\nprint(trend.coef_)"
      ]
    },
    {
      "cell_type": "markdown",
      "metadata": {},
      "source": [
        "More importantly, we can predict the trend values and remove them from our\ndata:\n\n"
      ]
    },
    {
      "cell_type": "code",
      "execution_count": null,
      "metadata": {
        "collapsed": false
      },
      "outputs": [],
      "source": [
        "trend_values = trend.predict(coordinates)\nresiduals = data.air_temperature_c - trend_values\n\nfig, axes = plt.subplots(\n    1, 2, figsize=(10, 6), subplot_kw=dict(projection=ccrs.Mercator())\n)\n\nax = axes[0]\nax.set_title(\"Trend\")\ntmp = ax.scatter(\n    data.longitude,\n    data.latitude,\n    c=trend_values,\n    s=60,\n    cmap=\"plasma\",\n    transform=ccrs.PlateCarree(),\n)\nplt.colorbar(tmp, ax=ax, orientation=\"horizontal\", pad=0.06)\nvd.datasets.setup_texas_wind_map(ax)\n\nax = axes[1]\nax.set_title(\"Residuals\")\nmaxabs = vd.maxabs(residuals)\ntmp = ax.scatter(\n    data.longitude,\n    data.latitude,\n    c=residuals,\n    s=60,\n    cmap=\"bwr\",\n    vmin=-maxabs,\n    vmax=maxabs,\n    transform=ccrs.PlateCarree(),\n)\nplt.colorbar(tmp, ax=ax, orientation=\"horizontal\", pad=0.08)\nvd.datasets.setup_texas_wind_map(ax)\nplt.show()"
      ]
    },
    {
      "cell_type": "markdown",
      "metadata": {},
      "source": [
        "The fitting, prediction, and residual calculation can all be done in a single\nstep using the :meth:`~verde.Trend.filter` method:\n\n"
      ]
    },
    {
      "cell_type": "code",
      "execution_count": null,
      "metadata": {
        "collapsed": false
      },
      "outputs": [],
      "source": [
        "# ``filter`` always outputs coordinates and weights as well, which we don't\n# need and will ignore here.\n__, res_filter, __ = vd.Trend(degree=1).filter(coordinates, data.air_temperature_c)\n\nprint(np.allclose(res_filter, residuals))"
      ]
    },
    {
      "cell_type": "markdown",
      "metadata": {},
      "source": [
        "Additionally, :class:`verde.Trend` implements the `gridder interface\n<overview>` and has the :meth:`~verde.Trend.grid` and\n:meth:`~verde.Trend.profile` methods.\n\n"
      ]
    }
  ],
  "metadata": {
    "kernelspec": {
      "display_name": "Python 3",
      "language": "python",
      "name": "python3"
    },
    "language_info": {
      "codemirror_mode": {
        "name": "ipython",
        "version": 3
      },
      "file_extension": ".py",
      "mimetype": "text/x-python",
      "name": "python",
      "nbconvert_exporter": "python",
      "pygments_lexer": "ipython3",
      "version": "3.9.13"
    }
  },
  "nbformat": 4,
  "nbformat_minor": 0
}