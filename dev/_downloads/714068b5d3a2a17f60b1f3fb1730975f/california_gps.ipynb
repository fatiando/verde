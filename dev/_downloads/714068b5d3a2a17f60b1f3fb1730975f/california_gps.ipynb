{
  "cells": [
    {
      "cell_type": "code",
      "execution_count": null,
      "metadata": {
        "collapsed": false
      },
      "outputs": [],
      "source": [
        "%matplotlib inline"
      ]
    },
    {
      "cell_type": "markdown",
      "metadata": {},
      "source": [
        "\n# [DEPRECATED] GPS velocities from California\n\n<div class=\"alert alert-danger\"><h4>Warning</h4><p>All sample datasets in Verde are deprecated and will be\n    **removed in Verde v2.0.0**.\n    The tutorials/examples will transition to using\n    `Ensaio <https://www.fatiando.org/ensaio/>`__ instead.</p></div>\n\nWe provide sample 3-component GPS velocity data from the West coast of the U.S.\nThe data were cut from EarthScope Plate Boundary Observatory data provided by\nUNAVCO. The velocities are in the North American tectonic plate reference\nsystem (NAM08). The velocities and their associated standard deviations are in\nmeters/year.\n"
      ]
    },
    {
      "cell_type": "code",
      "execution_count": null,
      "metadata": {
        "collapsed": false
      },
      "outputs": [],
      "source": [
        "import cartopy.crs as ccrs\nimport matplotlib.pyplot as plt\n\nimport verde as vd\n\n# The data are in a pandas.DataFrame\ndata = vd.datasets.fetch_california_gps()\nprint(data.head())\n\n\n# Make a plot of the data using Cartopy to handle projections and coastlines\ncrs = ccrs.PlateCarree()\nfig, axes = plt.subplots(\n    1, 2, figsize=(8, 4), subplot_kw=dict(projection=ccrs.Mercator())\n)\n# Plot the horizontal velocity vectors\nax = axes[0]\nax.set_title(\"GPS horizontal velocities\")\nax.quiver(\n    data.longitude.values,\n    data.latitude.values,\n    data.velocity_east.values,\n    data.velocity_north.values,\n    scale=0.3,\n    transform=crs,\n)\nvd.datasets.setup_california_gps_map(ax)\n# Plot the vertical velocity\nax = axes[1]\nax.set_title(\"Vertical velocity\")\nmaxabs = vd.maxabs(data.velocity_up)\ntmp = ax.scatter(\n    data.longitude,\n    data.latitude,\n    c=data.velocity_up,\n    s=10,\n    vmin=-maxabs / 3,\n    vmax=maxabs / 3,\n    cmap=\"seismic\",\n    transform=crs,\n)\nplt.colorbar(tmp, ax=ax).set_label(\"meters/year\")\nvd.datasets.setup_california_gps_map(ax)\nplt.show()"
      ]
    }
  ],
  "metadata": {
    "kernelspec": {
      "display_name": "Python 3",
      "language": "python",
      "name": "python3"
    },
    "language_info": {
      "codemirror_mode": {
        "name": "ipython",
        "version": 3
      },
      "file_extension": ".py",
      "mimetype": "text/x-python",
      "name": "python",
      "nbconvert_exporter": "python",
      "pygments_lexer": "ipython3",
      "version": "3.9.9"
    }
  },
  "nbformat": 4,
  "nbformat_minor": 0
}