{
  "cells": [
    {
      "cell_type": "markdown",
      "metadata": {},
      "source": [
        "\n# Gridding with splines\n\nBiharmonic spline interpolation is based on estimating vertical forces acting\non an elastic sheet that yield deformations in the sheet equal to the observed\ndata. The results are similar to using :class:`verde.Cubic` but the\ninterpolation is usually a bit slower. However, the advantages of using\n:class:`verde.Spline` are that the method is able to extrapolate outside of the\nconvex hull of the data points and we can assign weights to the data and do\nmodel evaluation.\n\n<div class=\"alert alert-info\"><h4>Note</h4><p>Scoring on a single split of the data can be highly dependent on the\n    ``random_state``. See `model_selection` for more information and a\n    better approach.</p></div>\n"
      ]
    },
    {
      "cell_type": "code",
      "execution_count": null,
      "metadata": {
        "collapsed": false
      },
      "outputs": [],
      "source": [
        "import cartopy.crs as ccrs\nimport matplotlib.pyplot as plt\nimport numpy as np\nimport pyproj\n\nimport verde as vd\n\n# We'll test this on the air temperature data from Texas\ndata = vd.datasets.fetch_texas_wind()\ncoordinates = (data.longitude.values, data.latitude.values)\nregion = vd.get_region(coordinates)\n\n# Use a Mercator projection for our Cartesian gridder\nprojection = pyproj.Proj(proj=\"merc\", lat_ts=data.latitude.mean())\n\n# The output grid spacing will 15 arc-minutes\nspacing = 15 / 60\n\n# Now we can chain a blocked mean and spline together. The Spline can be\n# regularized by setting the damping coefficient (should be positive).\nchain = vd.Chain(\n    [\n        (\"mean\", vd.BlockReduce(np.mean, spacing=spacing * 111e3)),\n        (\"spline\", vd.Spline(damping=1e-10)),\n    ]\n)\nprint(chain)\n\n# We can evaluate model performance by splitting the data into a training and\n# testing set. We'll use the training set to grid the data and the testing set\n# to validate our spline model.\ntrain, test = vd.train_test_split(\n    projection(*coordinates), data.air_temperature_c, random_state=0\n)\n\n# Fit the model on the training set\nchain.fit(*train)\n\n# And calculate an R^2 score coefficient on the testing set. The best possible\n# score (perfect prediction) is 1. This can tell us how good our spline is at\n# predicting data that was not in the input dataset.\nscore = chain.score(*test)\nprint(\"\\nScore: {:.3f}\".format(score))\n\n# Now we can create a geographic grid of air temperature by providing a\n# projection function to the grid method and mask points that are too far from\n# the observations\ngrid_full = chain.grid(\n    region=region,\n    spacing=spacing,\n    projection=projection,\n    dims=[\"latitude\", \"longitude\"],\n    data_names=\"temperature\",\n)\ngrid = vd.distance_mask(\n    coordinates, maxdist=3 * spacing * 111e3, grid=grid_full, projection=projection\n)\nprint(grid)\n\n# Plot the grid and the original data points\nplt.figure(figsize=(8, 6))\nax = plt.axes(projection=ccrs.Mercator())\nax.set_title(\"Air temperature gridded with biharmonic spline\")\nax.plot(*coordinates, \".k\", markersize=1, transform=ccrs.PlateCarree())\ntmp = grid.temperature.plot.pcolormesh(\n    ax=ax, cmap=\"plasma\", transform=ccrs.PlateCarree(), add_colorbar=False\n)\nplt.colorbar(tmp).set_label(\"Air temperature (C)\")\n# Use an utility function to add tick labels and land and ocean features to the\n# map.\nvd.datasets.setup_texas_wind_map(ax, region=region)\nplt.show()"
      ]
    }
  ],
  "metadata": {
    "kernelspec": {
      "display_name": "Python 3",
      "language": "python",
      "name": "python3"
    },
    "language_info": {
      "codemirror_mode": {
        "name": "ipython",
        "version": 3
      },
      "file_extension": ".py",
      "mimetype": "text/x-python",
      "name": "python",
      "nbconvert_exporter": "python",
      "pygments_lexer": "ipython3",
      "version": "3.12.9"
    }
  },
  "nbformat": 4,
  "nbformat_minor": 0
}