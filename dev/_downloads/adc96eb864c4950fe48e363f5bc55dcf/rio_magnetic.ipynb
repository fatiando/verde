{
  "cells": [
    {
      "cell_type": "code",
      "execution_count": null,
      "metadata": {
        "collapsed": false
      },
      "outputs": [],
      "source": [
        "%matplotlib inline"
      ]
    },
    {
      "cell_type": "markdown",
      "metadata": {},
      "source": [
        "\n# [DEPRECATED] Magnetic data from Rio de Janeiro\n\n<div class=\"alert alert-danger\"><h4>Warning</h4><p>All sample datasets in Verde are deprecated and will be\n    **removed in Verde v2.0.0**.\n    The tutorials/examples will transition to using\n    `Ensaio <https://www.fatiando.org/ensaio/>`__ instead.</p></div>\n\nWe provide sample total-field magnetic anomaly data from an airborne survey of\nRio de Janeiro, Brazil, from the 1970s. The data are made available by the\nGeological Survey of Brazil (CPRM) through their `GEOSGB portal\n<http://geosgb.cprm.gov.br/>`__. See the documentation for\n:func:`verde.datasets.fetch_rio_magnetic` for more details.\n"
      ]
    },
    {
      "cell_type": "code",
      "execution_count": null,
      "metadata": {
        "collapsed": false
      },
      "outputs": [],
      "source": [
        "import cartopy.crs as ccrs\nimport matplotlib.pyplot as plt\n\nimport verde as vd\n\n# The data are in a pandas.DataFrame\ndata = vd.datasets.fetch_rio_magnetic()\nprint(data.head())\n\n# Make a Mercator map of the data using Cartopy\ncrs = ccrs.PlateCarree()\nplt.figure(figsize=(7, 5))\nax = plt.axes(projection=ccrs.Mercator())\nax.set_title(\"Total-field Magnetic Anomaly of Rio de Janeiro\")\n# Since the data is diverging (going from negative to positive) we need to\n# center our colorbar on 0. To do this, we calculate the maximum absolute value\n# of the data to set vmin and vmax.\nmaxabs = vd.maxabs(data.total_field_anomaly_nt)\n# Cartopy requires setting the projection of the original data through the\n# transform argument. Use PlateCarree for geographic data.\nplt.scatter(\n    data.longitude,\n    data.latitude,\n    c=data.total_field_anomaly_nt,\n    s=1,\n    cmap=\"seismic\",\n    vmin=-maxabs,\n    vmax=maxabs,\n    transform=crs,\n)\nplt.colorbar(pad=0.01).set_label(\"nT\")\n# Set the proper ticks for a Cartopy map\nvd.datasets.setup_rio_magnetic_map(ax)\nplt.show()"
      ]
    }
  ],
  "metadata": {
    "kernelspec": {
      "display_name": "Python 3",
      "language": "python",
      "name": "python3"
    },
    "language_info": {
      "codemirror_mode": {
        "name": "ipython",
        "version": 3
      },
      "file_extension": ".py",
      "mimetype": "text/x-python",
      "name": "python",
      "nbconvert_exporter": "python",
      "pygments_lexer": "ipython3",
      "version": "3.9.9"
    }
  },
  "nbformat": 4,
  "nbformat_minor": 0
}