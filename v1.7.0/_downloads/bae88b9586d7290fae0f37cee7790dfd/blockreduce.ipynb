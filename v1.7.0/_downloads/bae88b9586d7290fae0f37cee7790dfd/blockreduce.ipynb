{
  "cells": [
    {
      "cell_type": "code",
      "execution_count": null,
      "metadata": {
        "collapsed": false
      },
      "outputs": [],
      "source": [
        "%matplotlib inline"
      ]
    },
    {
      "cell_type": "markdown",
      "metadata": {},
      "source": [
        "\n# Blocked reduction operations\n\nWhen gridding data that has been highly oversampled in a direction (shipborne\nand airborne data, for example), it is important to decimate the data before\ninterpolation to avoid aliasing. Class :func:`verde.BlockReduce` decimates\ndata by applying a reduction operation (mean, median, mode, max, etc) to the\ndata in blocks. For non-smooth data, like bathymetry, a blocked median filter\nis a good choice.\n"
      ]
    },
    {
      "cell_type": "code",
      "execution_count": null,
      "metadata": {
        "collapsed": false
      },
      "outputs": [],
      "source": [
        "import cartopy.crs as ccrs\nimport matplotlib.pyplot as plt\nimport numpy as np\n\nimport verde as vd\n\n# We'll test this on the Baja California shipborne bathymetry data\ndata = vd.datasets.fetch_baja_bathymetry()\n\n# Decimate the data using a blocked median with 10 arc-minute blocks\nreducer = vd.BlockReduce(reduction=np.median, spacing=10 / 60)\ncoordinates, bathymetry = reducer.filter(\n    (data.longitude, data.latitude), data.bathymetry_m\n)\nlon, lat = coordinates\n\nprint(\"Original data size:\", data.bathymetry_m.size)\nprint(\"Decimated data size:\", bathymetry.size)\n\n# Make a plot of the decimated data using Cartopy\nplt.figure(figsize=(7, 6))\nax = plt.axes(projection=ccrs.Mercator())\nax.set_title(\"10' Block Median Bathymetry\")\n# Plot the bathymetry as colored circles.\nplt.scatter(lon, lat, c=bathymetry, s=5, transform=ccrs.PlateCarree())\nplt.colorbar().set_label(\"meters\")\n# Use a utility function to setup the tick labels and land feature\nvd.datasets.setup_baja_bathymetry_map(ax)\nplt.show()"
      ]
    }
  ],
  "metadata": {
    "kernelspec": {
      "display_name": "Python 3",
      "language": "python",
      "name": "python3"
    },
    "language_info": {
      "codemirror_mode": {
        "name": "ipython",
        "version": 3
      },
      "file_extension": ".py",
      "mimetype": "text/x-python",
      "name": "python",
      "nbconvert_exporter": "python",
      "pygments_lexer": "ipython3",
      "version": "3.9.12"
    }
  },
  "nbformat": 4,
  "nbformat_minor": 0
}