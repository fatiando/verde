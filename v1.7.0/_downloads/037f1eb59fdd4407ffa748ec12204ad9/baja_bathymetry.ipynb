{
  "cells": [
    {
      "cell_type": "code",
      "execution_count": null,
      "metadata": {
        "collapsed": false
      },
      "outputs": [],
      "source": [
        "%matplotlib inline"
      ]
    },
    {
      "cell_type": "markdown",
      "metadata": {},
      "source": [
        "\n# [DEPRECATED] Bathymetry data from Baja California\n\n<div class=\"alert alert-danger\"><h4>Warning</h4><p>All sample datasets in Verde are deprecated and will be\n    **removed in Verde v2.0.0**.\n    The tutorials/examples will transition to using\n    `Ensaio <https://www.fatiando.org/ensaio/>`__ instead.</p></div>\n\nWe provide sample bathymetry data from Baja California to test the gridding\nmethods. This is the ``@tut_ship.xyz`` sample data provided by `GMT\n<https://www.generic-mapping-tools.org/>`__ for their tutorials and gallery.\nThe data is downloaded to a local directory if it's not there already.\n"
      ]
    },
    {
      "cell_type": "code",
      "execution_count": null,
      "metadata": {
        "collapsed": false
      },
      "outputs": [],
      "source": [
        "import cartopy.crs as ccrs\nimport matplotlib.pyplot as plt\n\nimport verde as vd\n\n# The data are in a pandas.DataFrame\ndata = vd.datasets.fetch_baja_bathymetry()\nprint(data.head())\n\n# Make a Mercator map of the data using Cartopy\nplt.figure(figsize=(7, 6))\nax = plt.axes(projection=ccrs.Mercator())\nax.set_title(\"Bathymetry from Baja California\")\n# Plot the bathymetry as colored circles. Cartopy requires setting the\n# projection of the original data through the transform argument. Use\n# PlateCarree for geographic data.\nplt.scatter(\n    data.longitude,\n    data.latitude,\n    c=data.bathymetry_m,\n    s=0.1,\n    transform=ccrs.PlateCarree(),\n)\nplt.colorbar().set_label(\"meters\")\n# Use an utility function to add tick labels and land and ocean features to the\n# map.\nvd.datasets.setup_baja_bathymetry_map(ax)\nplt.show()"
      ]
    }
  ],
  "metadata": {
    "kernelspec": {
      "display_name": "Python 3",
      "language": "python",
      "name": "python3"
    },
    "language_info": {
      "codemirror_mode": {
        "name": "ipython",
        "version": 3
      },
      "file_extension": ".py",
      "mimetype": "text/x-python",
      "name": "python",
      "nbconvert_exporter": "python",
      "pygments_lexer": "ipython3",
      "version": "3.9.12"
    }
  },
  "nbformat": 4,
  "nbformat_minor": 0
}