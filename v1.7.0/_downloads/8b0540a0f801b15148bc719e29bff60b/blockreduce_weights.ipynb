{
  "cells": [
    {
      "cell_type": "code",
      "execution_count": null,
      "metadata": {
        "collapsed": false
      },
      "outputs": [],
      "source": [
        "%matplotlib inline"
      ]
    },
    {
      "cell_type": "markdown",
      "metadata": {},
      "source": [
        "\n# Using weights in blocked reduction\n\nSometimes data has outliers or less reliable points that might skew a blocked\nmean or even a median. If the reduction function can take a ``weights``\nargument, like ``numpy.average``, you can pass in weights to\n:class:`verde.BlockReduce` to lower the influence of the offending data points.\nHowever, :class:`verde.BlockReduce` can't produce weights for the blocked data\n(for use by a gridder, for example). If you want to produced blocked weights as\nwell, use :class:`verde.BlockMean`.\n"
      ]
    },
    {
      "cell_type": "code",
      "execution_count": null,
      "metadata": {
        "collapsed": false
      },
      "outputs": [],
      "source": [
        "import cartopy.crs as ccrs\nimport matplotlib.pyplot as plt\nimport numpy as np\n\nimport verde as vd\n\n# We'll test this on the California vertical GPS velocity data\ndata = vd.datasets.fetch_california_gps()\n\n# We'll add some random extreme outliers to the data\noutliers = np.random.RandomState(2).randint(0, data.shape[0], size=20)\ndata.velocity_up[outliers] += 0.08\nprint(\"Index of outliers:\", outliers)\n\n# Create an array of weights and set the weights for the outliers to a very low\n# value\nweights = np.ones_like(data.velocity_up)\nweights[outliers] = 1e-5\n\n# Now we can block average the points with and without weights to compare the\n# outputs.\nreducer = vd.BlockReduce(reduction=np.average, spacing=30 / 60, center_coordinates=True)\ncoordinates, no_weights = reducer.filter(\n    (data.longitude, data.latitude), data.velocity_up\n)\n__, with_weights = reducer.filter(\n    (data.longitude, data.latitude), data.velocity_up, weights\n)\n\n# Now we can plot the data sets side by side on Mercator maps\nfig, axes = plt.subplots(\n    1, 2, figsize=(9, 7), subplot_kw=dict(projection=ccrs.Mercator())\n)\ntitles = [\"No Weights\", \"Weights\"]\ncrs = ccrs.PlateCarree()\nmaxabs = vd.maxabs(data.velocity_up)\nfor ax, title, velocity in zip(axes, titles, (no_weights, with_weights)):\n    ax.set_title(title)\n    # Plot the locations of the outliers\n    ax.plot(\n        data.longitude[outliers],\n        data.latitude[outliers],\n        \"xk\",\n        transform=crs,\n        label=\"Outliers\",\n    )\n    # Plot the block means and saturate the colorbar a bit to better show the\n    # differences in the data.\n    pc = ax.scatter(\n        *coordinates,\n        c=velocity,\n        s=70,\n        transform=crs,\n        cmap=\"seismic\",\n        vmin=-maxabs / 3,\n        vmax=maxabs / 3\n    )\n    cb = plt.colorbar(pc, ax=ax, orientation=\"horizontal\", pad=0.05)\n    cb.set_label(\"vertical velocity [m/yr]\")\n    vd.datasets.setup_california_gps_map(ax)\nax.legend(loc=\"lower left\")\nplt.show()"
      ]
    }
  ],
  "metadata": {
    "kernelspec": {
      "display_name": "Python 3",
      "language": "python",
      "name": "python3"
    },
    "language_info": {
      "codemirror_mode": {
        "name": "ipython",
        "version": 3
      },
      "file_extension": ".py",
      "mimetype": "text/x-python",
      "name": "python",
      "nbconvert_exporter": "python",
      "pygments_lexer": "ipython3",
      "version": "3.9.12"
    }
  },
  "nbformat": 4,
  "nbformat_minor": 0
}