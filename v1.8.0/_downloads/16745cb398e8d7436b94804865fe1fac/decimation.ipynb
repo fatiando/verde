{
  "cells": [
    {
      "cell_type": "code",
      "execution_count": null,
      "metadata": {
        "collapsed": false
      },
      "outputs": [],
      "source": [
        "%matplotlib inline"
      ]
    },
    {
      "cell_type": "markdown",
      "metadata": {},
      "source": [
        "\n# Data Decimation\n\nOften times, raw spatial data can be highly oversampled in a direction. In\nthese cases, we need to decimate the data before interpolation to avoid\naliasing effects.\n"
      ]
    },
    {
      "cell_type": "code",
      "execution_count": null,
      "metadata": {
        "collapsed": false
      },
      "outputs": [],
      "source": [
        "import cartopy.crs as ccrs\nimport matplotlib.pyplot as plt\nimport numpy as np\n\nimport verde as vd"
      ]
    },
    {
      "cell_type": "markdown",
      "metadata": {},
      "source": [
        "For example, our sample shipborne bathymetry data has a higher sampling\nfrequency along the tracks than between tracks:\n\n"
      ]
    },
    {
      "cell_type": "code",
      "execution_count": null,
      "metadata": {
        "collapsed": false
      },
      "outputs": [],
      "source": [
        "# Load the data as a pandas.DataFrame\ndata = vd.datasets.fetch_baja_bathymetry()\n\n# Plot it using matplotlib and Cartopy\ncrs = ccrs.PlateCarree()\nplt.figure(figsize=(7, 7))\nax = plt.axes(projection=ccrs.Mercator())\nax.set_title(\"Locations of bathymetry measurements from Baja California\")\n# Plot the bathymetry data locations as black dots\nplt.plot(data.longitude, data.latitude, \".k\", markersize=1, transform=crs)\nvd.datasets.setup_baja_bathymetry_map(ax)\nplt.show()"
      ]
    },
    {
      "cell_type": "markdown",
      "metadata": {},
      "source": [
        "Class :class:`verde.BlockReduce` can be used to apply a reduction/aggregation\noperation (mean, median, standard deviation, etc) to the data in regular\nblocks. All data inside each block will be replaced by their aggregated\nvalue. :class:`~verde.BlockReduce` takes an aggregation function as input. It\ncan be any function that receives a numpy array as input and returns a single\nscalar value. The :func:`numpy.mean` or :func:`numpy.median` functions are\nusually what we want.\n\nBlocked means and medians are good ways to decimate data for interpolation.\nLet's use a blocked median on our data to decimate it to our desired grid\ninterval of 5 arc-minutes. The reason for using a median over a mean is\nbecause bathymetry data can vary abruptly and a mean would smooth the data\ntoo much. For data varies more smoothly (like gravity and magnetic data), a\nmean would be a better option.\n\n"
      ]
    },
    {
      "cell_type": "code",
      "execution_count": null,
      "metadata": {
        "collapsed": false
      },
      "outputs": [],
      "source": [
        "reducer = vd.BlockReduce(reduction=np.median, spacing=5 / 60)\nprint(reducer)"
      ]
    },
    {
      "cell_type": "markdown",
      "metadata": {},
      "source": [
        "Use the :meth:`~verde.BlockReduce.filter` method to apply the reduction:\n\n"
      ]
    },
    {
      "cell_type": "code",
      "execution_count": null,
      "metadata": {
        "collapsed": false
      },
      "outputs": [],
      "source": [
        "coordinates, bathymetry = reducer.filter(\n    coordinates=(data.longitude, data.latitude), data=data.bathymetry_m\n)\n\nplt.figure(figsize=(7, 7))\nax = plt.axes(projection=ccrs.Mercator())\nax.set_title(\"Locations of decimated data\")\n# Plot the bathymetry data locations as black dots\nplt.plot(*coordinates, \".k\", markersize=1, transform=crs)\nvd.datasets.setup_baja_bathymetry_map(ax)\nplt.show()"
      ]
    },
    {
      "cell_type": "markdown",
      "metadata": {},
      "source": [
        "By default, the coordinates of the decimated data are obtained by applying\nthe same reduction operation to the coordinates of the original data.\nAlternatively, we can tell :class:`~verde.BlockReduce` to return the\ncoordinates of the center of each block:\n\n"
      ]
    },
    {
      "cell_type": "code",
      "execution_count": null,
      "metadata": {
        "collapsed": false
      },
      "outputs": [],
      "source": [
        "reducer_center = vd.BlockReduce(\n    reduction=np.median, spacing=5 / 60, center_coordinates=True\n)\ncoordinates_center, bathymetry = reducer_center.filter(\n    coordinates=(data.longitude, data.latitude), data=data.bathymetry_m\n)\n\nplt.figure(figsize=(7, 7))\nax = plt.axes(projection=ccrs.Mercator())\nax.set_title(\"Locations of decimated data using block centers\")\n# Plot the bathymetry data locations as black dots\nplt.plot(*coordinates_center, \".k\", markersize=1, transform=crs)\nvd.datasets.setup_baja_bathymetry_map(ax)\nplt.show()"
      ]
    },
    {
      "cell_type": "markdown",
      "metadata": {},
      "source": [
        "Now the data are ready for interpolation.\n\n"
      ]
    }
  ],
  "metadata": {
    "kernelspec": {
      "display_name": "Python 3",
      "language": "python",
      "name": "python3"
    },
    "language_info": {
      "codemirror_mode": {
        "name": "ipython",
        "version": 3
      },
      "file_extension": ".py",
      "mimetype": "text/x-python",
      "name": "python",
      "nbconvert_exporter": "python",
      "pygments_lexer": "ipython3",
      "version": "3.9.13"
    }
  },
  "nbformat": 4,
  "nbformat_minor": 0
}