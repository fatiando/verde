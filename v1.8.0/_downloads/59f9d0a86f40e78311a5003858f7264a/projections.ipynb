{
  "cells": [
    {
      "cell_type": "code",
      "execution_count": null,
      "metadata": {
        "collapsed": false
      },
      "outputs": [],
      "source": [
        "%matplotlib inline"
      ]
    },
    {
      "cell_type": "markdown",
      "metadata": {},
      "source": [
        "\n# Geographic Coordinates\n\nMost gridders and processing methods in Verde operate under the assumption that\nthe data coordinates are Cartesian. To process data in geographic (longitude\nand latitude) coordinates, we must first project them. There are different ways\nof doing this in Python but most of them rely on the `PROJ library\n<https://proj4.org/>`__. We'll use `pyproj\n<https://github.com/jswhit/pyproj>`__ to access PROJ directly and handle the\nprojection operations.\n"
      ]
    },
    {
      "cell_type": "code",
      "execution_count": null,
      "metadata": {
        "collapsed": false
      },
      "outputs": [],
      "source": [
        "import cartopy.crs as ccrs\nimport matplotlib.pyplot as plt\nimport numpy as np\nimport pyproj\n\nimport verde as vd"
      ]
    },
    {
      "cell_type": "markdown",
      "metadata": {},
      "source": [
        "With pyproj, we can create functions that will project our coordinates to and\nfrom different coordinate systems. For our Baja California bathymetry data,\nwe'll use a Mercator projection.\n\n"
      ]
    },
    {
      "cell_type": "code",
      "execution_count": null,
      "metadata": {
        "collapsed": false
      },
      "outputs": [],
      "source": [
        "data = vd.datasets.fetch_baja_bathymetry()\n# We're choosing the latitude of true scale as the mean latitude of our dataset\nprojection = pyproj.Proj(proj=\"merc\", lat_ts=data.latitude.mean())"
      ]
    },
    {
      "cell_type": "markdown",
      "metadata": {},
      "source": [
        "The Proj object is a callable (meaning that it behaves like a function) that\nwill take longitude and latitude and return easting and northing coordinates.\n\n"
      ]
    },
    {
      "cell_type": "code",
      "execution_count": null,
      "metadata": {
        "collapsed": false
      },
      "outputs": [],
      "source": [
        "# pyproj doesn't play well with Pandas so we need to convert to numpy arrays\nproj_coords = projection(data.longitude.values, data.latitude.values)\nprint(proj_coords)"
      ]
    },
    {
      "cell_type": "markdown",
      "metadata": {},
      "source": [
        "We can plot our projected coordinates using matplotlib.\n\n"
      ]
    },
    {
      "cell_type": "code",
      "execution_count": null,
      "metadata": {
        "collapsed": false
      },
      "outputs": [],
      "source": [
        "plt.figure(figsize=(7, 6))\nplt.title(\"Projected coordinates of bathymetry measurements\")\n# Plot the bathymetry data locations as black dots\nplt.plot(proj_coords[0], proj_coords[1], \".k\", markersize=0.5)\nplt.xlabel(\"Easting (m)\")\nplt.ylabel(\"Northing (m)\")\nplt.gca().set_aspect(\"equal\")\nplt.tight_layout()\nplt.show()"
      ]
    },
    {
      "cell_type": "markdown",
      "metadata": {},
      "source": [
        "## Cartesian grids\n\nNow we can use :class:`verde.BlockReduce` and :class:`verde.Spline` on our\nprojected coordinates. We'll specify the desired grid spacing as degrees and\nconvert it to Cartesian using the 1 degree approx. 111 km rule-of-thumb.\n\n"
      ]
    },
    {
      "cell_type": "code",
      "execution_count": null,
      "metadata": {
        "collapsed": false
      },
      "outputs": [],
      "source": [
        "spacing = 10 / 60\nreducer = vd.BlockReduce(np.median, spacing=spacing * 111e3)\nfilter_coords, filter_bathy = reducer.filter(proj_coords, data.bathymetry_m)\nspline = vd.Spline().fit(filter_coords, filter_bathy)"
      ]
    },
    {
      "cell_type": "markdown",
      "metadata": {},
      "source": [
        "If we now call :meth:`verde.Spline.grid` we'll get back a grid evenly spaced\nin projected Cartesian coordinates.\n\n"
      ]
    },
    {
      "cell_type": "code",
      "execution_count": null,
      "metadata": {
        "collapsed": false
      },
      "outputs": [],
      "source": [
        "grid = spline.grid(spacing=spacing * 111e3, data_names=\"bathymetry\")\nprint(\"Cartesian grid:\")\nprint(grid)"
      ]
    },
    {
      "cell_type": "markdown",
      "metadata": {},
      "source": [
        "We'll mask our grid using :func:`verde.distance_mask` to get rid of all the\nspurious solutions far away from the data points.\n\n"
      ]
    },
    {
      "cell_type": "code",
      "execution_count": null,
      "metadata": {
        "collapsed": false
      },
      "outputs": [],
      "source": [
        "grid = vd.distance_mask(proj_coords, maxdist=30e3, grid=grid)\n\nplt.figure(figsize=(7, 6))\nplt.title(\"Gridded bathymetry in Cartesian coordinates\")\npc = grid.bathymetry.plot.pcolormesh(cmap=\"viridis\", vmax=0, add_colorbar=False)\nplt.colorbar(pc).set_label(\"bathymetry (m)\")\nplt.plot(filter_coords[0], filter_coords[1], \".k\", markersize=0.5)\nplt.xlabel(\"Easting (m)\")\nplt.ylabel(\"Northing (m)\")\nplt.gca().set_aspect(\"equal\")\nplt.tight_layout()\nplt.show()"
      ]
    },
    {
      "cell_type": "markdown",
      "metadata": {},
      "source": [
        "## Geographic grids\n\nThe Cartesian grid that we generated won't be evenly spaced if we convert the\ncoordinates back to geographic latitude and longitude. Verde gridders allow\nyou to generate an evenly spaced grid in geographic coordinates through the\n``projection`` argument of the :meth:`~verde.base.BaseGridder.grid` method.\n\nBy providing a projection function (like our pyproj ``projection`` object),\nVerde will generate coordinates for a regular grid and then pass them through\nthe projection function before predicting data values. This way, you can\ngenerate a grid in a coordinate system other than the one you used to fit the\nspline.\n\n"
      ]
    },
    {
      "cell_type": "code",
      "execution_count": null,
      "metadata": {
        "collapsed": false
      },
      "outputs": [],
      "source": [
        "# Get the geographic bounding region of the data\nregion = vd.get_region((data.longitude, data.latitude))\nprint(\"Data region in degrees:\", region)\n\n# Specify the region and spacing in degrees and a projection function\ngrid_geo = spline.grid(\n    region=region,\n    spacing=spacing,\n    projection=projection,\n    dims=[\"latitude\", \"longitude\"],\n    data_names=\"bathymetry\",\n)\nprint(\"Geographic grid:\")\nprint(grid_geo)"
      ]
    },
    {
      "cell_type": "markdown",
      "metadata": {},
      "source": [
        "Notice that grid has longitude and latitude coordinates and slightly\ndifferent number of points than the Cartesian grid.\n\nThe :func:`verde.distance_mask` function also supports the ``projection``\nargument and will project the coordinates before calculating distances.\n\n"
      ]
    },
    {
      "cell_type": "code",
      "execution_count": null,
      "metadata": {
        "collapsed": false
      },
      "outputs": [],
      "source": [
        "grid_geo = vd.distance_mask(\n    (data.longitude, data.latitude), maxdist=30e3, grid=grid_geo, projection=projection\n)"
      ]
    },
    {
      "cell_type": "markdown",
      "metadata": {},
      "source": [
        "Now we can use the Cartopy library to plot our geographic grid.\n\n"
      ]
    },
    {
      "cell_type": "code",
      "execution_count": null,
      "metadata": {
        "collapsed": false
      },
      "outputs": [],
      "source": [
        "plt.figure(figsize=(7, 6))\nax = plt.axes(projection=ccrs.Mercator())\nax.set_title(\"Geographic grid of bathymetry\")\npc = grid_geo.bathymetry.plot.pcolormesh(\n    ax=ax, transform=ccrs.PlateCarree(), vmax=0, zorder=-1, add_colorbar=False\n)\nplt.colorbar(pc).set_label(\"meters\")\nvd.datasets.setup_baja_bathymetry_map(ax, land=None)\nplt.show()"
      ]
    },
    {
      "cell_type": "markdown",
      "metadata": {},
      "source": [
        "## Profiles\n\nFor profiles, things are a bit different. The projection is applied to the\ninput points before coordinates are generated. So the profile will be evenly\nspaced in *projected coordinates*, not geographic coordinates. This is to\navoid issues with calculating distances on a sphere.\n\nThe coordinates returned by the ``profile`` method will be in geographic\ncoordinates, so projections given to ``profile`` must take an ``inverse``\nargument so we can undo the projection.\n\nThe main utility of using a projection with ``profile`` is being able to pass\nin points in geographic coordinates and get coordinates back in that same\nsystem (making it easier to plot on a map).\n\nTo generate a profile cutting across our bathymetry data, we can use\nlongitude and latitude points taken from the map above).\n\n"
      ]
    },
    {
      "cell_type": "code",
      "execution_count": null,
      "metadata": {
        "collapsed": false
      },
      "outputs": [],
      "source": [
        "start = (-114.5, 24.7)\nend = (-110, 20.5)\nprofile = spline.profile(\n    point1=start,\n    point2=end,\n    size=200,\n    projection=projection,\n    dims=(\"latitude\", \"longitude\"),\n    data_names=[\"bathymetry\"],\n)\nprint(profile)"
      ]
    },
    {
      "cell_type": "markdown",
      "metadata": {},
      "source": [
        "Plot the profile location on our geographic grid from above.\n\n"
      ]
    },
    {
      "cell_type": "code",
      "execution_count": null,
      "metadata": {
        "collapsed": false
      },
      "outputs": [],
      "source": [
        "plt.figure(figsize=(7, 6))\nax = plt.axes(projection=ccrs.Mercator())\nax.set_title(\"Profile location\")\npc = grid_geo.bathymetry.plot.pcolormesh(\n    ax=ax, transform=ccrs.PlateCarree(), vmax=0, zorder=-1, add_colorbar=False\n)\nplt.colorbar(pc).set_label(\"meters\")\nax.plot(profile.longitude, profile.latitude, \"-k\", transform=ccrs.PlateCarree())\nax.text(start[0], start[1], \"A\", transform=ccrs.PlateCarree())\nax.text(end[0], end[1], \"B\", transform=ccrs.PlateCarree())\nvd.datasets.setup_baja_bathymetry_map(ax, land=None)\nplt.show()"
      ]
    },
    {
      "cell_type": "markdown",
      "metadata": {},
      "source": [
        "And finally plot the profile.\n\n"
      ]
    },
    {
      "cell_type": "code",
      "execution_count": null,
      "metadata": {
        "collapsed": false
      },
      "outputs": [],
      "source": [
        "plt.figure(figsize=(8, 3))\nax = plt.axes()\nax.set_title(\"Profile of bathymetry (A-B)\")\nax.plot(profile.distance, profile.bathymetry, \"-k\")\nax.set_xlabel(\"Distance (m)\")\nax.set_ylabel(\"Bathymetry (m)\")\nax.set_xlim(profile.distance.min(), profile.distance.max())\nax.grid()\nplt.tight_layout()\nplt.show()"
      ]
    }
  ],
  "metadata": {
    "kernelspec": {
      "display_name": "Python 3",
      "language": "python",
      "name": "python3"
    },
    "language_info": {
      "codemirror_mode": {
        "name": "ipython",
        "version": 3
      },
      "file_extension": ".py",
      "mimetype": "text/x-python",
      "name": "python",
      "nbconvert_exporter": "python",
      "pygments_lexer": "ipython3",
      "version": "3.9.13"
    }
  },
  "nbformat": 4,
  "nbformat_minor": 0
}