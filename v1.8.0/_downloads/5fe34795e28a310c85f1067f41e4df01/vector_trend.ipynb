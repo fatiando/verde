{
  "cells": [
    {
      "cell_type": "code",
      "execution_count": null,
      "metadata": {
        "collapsed": false
      },
      "outputs": [],
      "source": [
        "%matplotlib inline"
      ]
    },
    {
      "cell_type": "markdown",
      "metadata": {},
      "source": [
        "\n# Trends in vector data\n\nVerde provides the :class:`verde.Trend` class to estimate a polynomial trend\nand the :class:`verde.Vector` class to apply any combination of estimators to\neach component of vector data, like GPS velocities. You can access each\ncomponent as a separate (fitted) :class:`verde.Trend` instance or operate on\nall vector components directly using using :meth:`verde.Vector.predict`,\n:meth:`verde.Vector.grid`, etc, or chaining it with a vector interpolator using\n:class:`verde.Chain`.\n"
      ]
    },
    {
      "cell_type": "code",
      "execution_count": null,
      "metadata": {
        "collapsed": false
      },
      "outputs": [],
      "source": [
        "import cartopy.crs as ccrs\nimport matplotlib.pyplot as plt\n\nimport verde as vd\n\n# Fetch the GPS data from the U.S. West coast. The data has a strong trend\n# toward the North-West because of the relative movement along the San Andreas\n# Fault System.\ndata = vd.datasets.fetch_california_gps()\n\n# We'll fit a degree 2 trend on both the East and North components and weight\n# the data using the inverse of the variance of each component. Note: Never use\n# [Trend(...)]*2 as an argument to Vector. This creates references to the same\n# Trend instance and will mess up the fitting.\ntrend = vd.Vector([vd.Trend(degree=2) for i in range(2)])\nweights = vd.variance_to_weights((data.std_east**2, data.std_north**2))\ntrend.fit(\n    coordinates=(data.longitude, data.latitude),\n    data=(data.velocity_east, data.velocity_north),\n    weights=weights,\n)\nprint(\"Vector trend estimator:\", trend)\n\n# The separate Trend objects for each component can be accessed through the\n# 'components' attribute. You could grid them individually if you wanted.\nprint(\"East component trend:\", trend.components[0])\nprint(\"East trend coefficients:\", trend.components[0].coef_)\nprint(\"North component trend:\", trend.components[1])\nprint(\"North trend coefficients:\", trend.components[1].coef_)\n\n# We can make a grid with both trend components as data variables\ngrid = trend.grid(spacing=0.1, dims=[\"latitude\", \"longitude\"])\nprint(\"\\nGridded 2-component trend:\")\nprint(grid)\n\n\n# Now we can map both trends along with the original data for comparison\nfig, axes = plt.subplots(\n    1, 2, figsize=(9, 7), subplot_kw=dict(projection=ccrs.Mercator())\n)\ncrs = ccrs.PlateCarree()\n# Plot the two trend components\ntitles = [\"East component trend\", \"North component trend\"]\ncomponents = [grid.east_component, grid.north_component]\nfor ax, component, title in zip(axes, components, titles):\n    ax.set_title(title)\n    # Plot the trend in pseudo color\n    maxabs = vd.maxabs(component)\n    tmp = component.plot.pcolormesh(\n        ax=ax,\n        vmin=-maxabs,\n        vmax=maxabs,\n        cmap=\"seismic\",\n        transform=crs,\n        add_colorbar=False,\n        add_labels=False,\n    )\n    cb = plt.colorbar(tmp, ax=ax, orientation=\"horizontal\", pad=0.05)\n    cb.set_label(\"meters/year\")\n    # Plot the original data\n    ax.quiver(\n        data.longitude.values,\n        data.latitude.values,\n        data.velocity_east.values,\n        data.velocity_north.values,\n        scale=0.2,\n        transform=crs,\n        color=\"k\",\n        width=0.001,\n        label=\"Original data\",\n    )\n    # Setup the map ticks\n    vd.datasets.setup_california_gps_map(\n        ax, land=None, ocean=None, region=vd.get_region((data.longitude, data.latitude))\n    )\n    ax.coastlines(color=\"white\")\naxes[0].legend(loc=\"lower left\")\nplt.show()"
      ]
    }
  ],
  "metadata": {
    "kernelspec": {
      "display_name": "Python 3",
      "language": "python",
      "name": "python3"
    },
    "language_info": {
      "codemirror_mode": {
        "name": "ipython",
        "version": 3
      },
      "file_extension": ".py",
      "mimetype": "text/x-python",
      "name": "python",
      "nbconvert_exporter": "python",
      "pygments_lexer": "ipython3",
      "version": "3.9.13"
    }
  },
  "nbformat": 4,
  "nbformat_minor": 0
}