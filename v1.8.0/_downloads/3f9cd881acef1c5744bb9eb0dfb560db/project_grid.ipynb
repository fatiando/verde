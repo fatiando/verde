{
  "cells": [
    {
      "cell_type": "code",
      "execution_count": null,
      "metadata": {
        "collapsed": false
      },
      "outputs": [],
      "source": [
        "%matplotlib inline"
      ]
    },
    {
      "cell_type": "markdown",
      "metadata": {},
      "source": [
        "\n# Projection of gridded data\n\nSometimes gridded data products need to be projected before they can be used.\nFor example, you might want to project the topography of Antarctica from\ngeographic latitude and longitude to a planar polar stereographic projection\nbefore doing your analysis. When projecting, the data points will likely not\nfall on a regular grid anymore and must be interpolated (re-sampled) onto a new\ngrid.\n\nThe :func:`verde.project_grid` function automates this process using the\ninterpolation methods available in Verde. An input grid\n(:class:`xarray.DataArray`) is interpolated onto a new grid in the given\n`pyproj <https://jswhit.github.io/pyproj/>`__ projection. The function takes\ncare of choosing a default grid spacing and region, running a blocked mean to\navoid spatial aliasing (using :class:`~verde.BlockReduce`), and masking the\npoints in the new grid that aren't constrained by the original data (using\n:func:`~verde.convexhull_mask`).\n\nIn this example, we'll generate a synthetic geographic grid with a checkerboard\npattern around the South pole. We'll project the grid to South Polar\nStereographic, revealing the checkered pattern of the data.\n\n<div class=\"alert alert-info\"><h4>Note</h4><p>The interpolation methods are limited to what is available in Verde and\n    there is only support for single 2D grids. For more sophisticated use\n    cases, you might want to try\n    `pyresample <https://github.com/pytroll/pyresample>`__ instead.</p></div>\n"
      ]
    },
    {
      "cell_type": "code",
      "execution_count": null,
      "metadata": {
        "collapsed": false
      },
      "outputs": [],
      "source": [
        "import matplotlib.pyplot as plt\nimport pyproj\n\nimport verde as vd\n\n# We'll use synthetic data near the South pole to highlight the effects of the\n# projection. EPSG 3031 is a South Polar Stereographic projection.\nprojection = pyproj.Proj(\"epsg:3031\")\n\n# Create a synthetic geographic grid using a checkerboard pattern\nregion = (0, 360, -90, -60)\nspacing = 0.25\nwavelength = 10 * 1e5  # The size of the cells in the checkerboard\ncheckerboard = vd.synthetic.CheckerBoard(\n    region=vd.project_region(region, projection), w_east=wavelength, w_north=wavelength\n)\ndata = checkerboard.grid(\n    region=region,\n    spacing=spacing,\n    projection=projection,\n    data_names=\"checkerboard\",\n    dims=(\"latitude\", \"longitude\"),\n)\nprint(\"Geographic grid:\")\nprint(data)\n\n# Do the projection while setting the output grid spacing (in projected\n# meters). Set the coordinates names to x and y since they aren't really\n# \"northing\" or \"easting\".\npolar_data = vd.project_grid(\n    data.checkerboard, projection, spacing=0.5 * 1e5, dims=(\"y\", \"x\")\n)\nprint(\"\\nProjected grid:\")\nprint(polar_data)\n\n# Plot the original and projected grids\nfig, (ax1, ax2) = plt.subplots(1, 2, figsize=(10, 6))\ndata.checkerboard.plot(\n    ax=ax1, cbar_kwargs=dict(orientation=\"horizontal\", aspect=50, pad=0.1)\n)\nax1.set_title(\"Geographic Grid\")\npolar_data.plot(ax=ax2, cbar_kwargs=dict(orientation=\"horizontal\", aspect=50, pad=0.1))\nax2.set_title(\"Polar Stereographic Grid\")\nplt.tight_layout()\nplt.show()"
      ]
    }
  ],
  "metadata": {
    "kernelspec": {
      "display_name": "Python 3",
      "language": "python",
      "name": "python3"
    },
    "language_info": {
      "codemirror_mode": {
        "name": "ipython",
        "version": 3
      },
      "file_extension": ".py",
      "mimetype": "text/x-python",
      "name": "python",
      "nbconvert_exporter": "python",
      "pygments_lexer": "ipython3",
      "version": "3.9.13"
    }
  },
  "nbformat": 4,
  "nbformat_minor": 0
}