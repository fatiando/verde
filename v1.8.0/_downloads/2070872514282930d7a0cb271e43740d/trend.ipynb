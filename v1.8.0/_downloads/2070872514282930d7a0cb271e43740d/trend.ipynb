{
  "cells": [
    {
      "cell_type": "code",
      "execution_count": null,
      "metadata": {
        "collapsed": false
      },
      "outputs": [],
      "source": [
        "%matplotlib inline"
      ]
    },
    {
      "cell_type": "markdown",
      "metadata": {},
      "source": [
        "\n# Polynomial trend\n\nVerde offers the :class:`verde.Trend` class to fit a 2D polynomial trend to\nyour data. This can be useful for isolating a regional component of your data,\nfor example, which is a common operation for gravity and magnetic data. Let's\nlook at how we can use Verde to remove the clear trend from our Texas\ntemperature dataset (:func:`verde.datasets.fetch_texas_wind`).\n"
      ]
    },
    {
      "cell_type": "code",
      "execution_count": null,
      "metadata": {
        "collapsed": false
      },
      "outputs": [],
      "source": [
        "import cartopy.crs as ccrs\nimport matplotlib.pyplot as plt\n\nimport verde as vd\n\n# Load the Texas wind and temperature data as a pandas.DataFrame\ndata = vd.datasets.fetch_texas_wind()\nprint(\"Original data:\")\nprint(data.head())\n\n# Fit a 1st degree 2D polynomial to the data\ncoordinates = (data.longitude, data.latitude)\ntrend = vd.Trend(degree=1).fit(coordinates, data.air_temperature_c)\nprint(\"\\nTrend estimator:\", trend)\n\n# Add the estimated trend and the residual data to the DataFrame\ndata[\"trend\"] = trend.predict(coordinates)\ndata[\"residual\"] = data.air_temperature_c - data.trend\nprint(\"\\nUpdated DataFrame:\")\nprint(data.head())\n\n\n# Make a function to plot the data using the same colorbar\ndef plot_data(column, i, title):\n    \"Plot the column from the DataFrame in the ith subplot\"\n    crs = ccrs.PlateCarree()\n    ax = plt.subplot(2, 2, i, projection=ccrs.Mercator())\n    ax.set_title(title)\n    # Set vmin and vmax to the extremes of the original data\n    maxabs = vd.maxabs(data.air_temperature_c)\n    mappable = ax.scatter(\n        data.longitude,\n        data.latitude,\n        c=data[column],\n        s=50,\n        cmap=\"seismic\",\n        vmin=-maxabs,\n        vmax=maxabs,\n        transform=crs,\n    )\n    # Set the proper ticks for a Cartopy map\n    vd.datasets.setup_texas_wind_map(ax)\n    return mappable\n\n\nplt.figure(figsize=(10, 9.5))\n\n# Plot the data fields and capture the mappable returned by scatter to use for\n# the colorbar\nmappable = plot_data(\"air_temperature_c\", 1, \"Original data\")\nplot_data(\"trend\", 2, \"Regional trend\")\nplot_data(\"residual\", 3, \"Residual\")\n\n# Make histograms of the data and the residuals to show that the trend was\n# removed\nax = plt.subplot(2, 2, 4)\nax.set_title(\"Distribution of data\")\nax.hist(data.air_temperature_c, bins=\"auto\", alpha=0.7, label=\"Original data\")\nax.hist(data.residual, bins=\"auto\", alpha=0.7, label=\"Residuals\")\nax.legend()\nax.set_xlabel(\"Air temperature (C)\")\n\n# Add a single colorbar on top of the histogram plot where there is some space\ncax = plt.axes((0.35, 0.44, 0.10, 0.01))\ncb = plt.colorbar(\n    mappable,\n    cax=cax,\n    orientation=\"horizontal\",\n)\ncb.set_label(\"C\")\n\nplt.show()"
      ]
    }
  ],
  "metadata": {
    "kernelspec": {
      "display_name": "Python 3",
      "language": "python",
      "name": "python3"
    },
    "language_info": {
      "codemirror_mode": {
        "name": "ipython",
        "version": 3
      },
      "file_extension": ".py",
      "mimetype": "text/x-python",
      "name": "python",
      "nbconvert_exporter": "python",
      "pygments_lexer": "ipython3",
      "version": "3.9.13"
    }
  },
  "nbformat": 4,
  "nbformat_minor": 0
}