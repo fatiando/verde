{
  "cells": [
    {
      "cell_type": "code",
      "execution_count": null,
      "metadata": {
        "collapsed": false
      },
      "outputs": [],
      "source": [
        "%matplotlib inline"
      ]
    },
    {
      "cell_type": "markdown",
      "metadata": {},
      "source": [
        "\n# Mask grid points by distance\n\nSometimes, data points are unevenly distributed. In such cases, we might not\nwant to have interpolated grid points that are too far from any data point.\nFunction :func:`verde.distance_mask` allows us to set such points to NaN or\nsome other value.\n"
      ]
    },
    {
      "cell_type": "code",
      "execution_count": null,
      "metadata": {
        "collapsed": false
      },
      "outputs": [],
      "source": [
        "import cartopy.crs as ccrs\nimport matplotlib.pyplot as plt\nimport numpy as np\nimport pyproj\n\nimport verde as vd\n\n# The Baja California bathymetry dataset has big gaps on land. We want to mask\n# these gaps on a dummy grid that we'll generate over the region.\ndata = vd.datasets.fetch_baja_bathymetry()\nregion = vd.get_region((data.longitude, data.latitude))\n\n# Generate the coordinates for a regular grid mask\nspacing = 10 / 60\ncoordinates = vd.grid_coordinates(region, spacing=spacing)\n\n# Generate a mask for points that are more than 2 grid spacings away from any\n# data point. The mask is True for points that are within the maximum distance.\n# Distance calculations in the mask are Cartesian only. We can provide a\n# projection function to convert the coordinates before distances are\n# calculated (Mercator in this case). In this case, the maximum distance is\n# also Cartesian and must be converted from degrees to meters.\nmask = vd.distance_mask(\n    (data.longitude, data.latitude),\n    maxdist=spacing * 2 * 111e3,\n    coordinates=coordinates,\n    projection=pyproj.Proj(proj=\"merc\", lat_ts=data.latitude.mean()),\n)\nprint(mask)\n\n# Create a dummy grid with ones that we can mask to show the results.\n# Turn points that are too far into NaNs so they won't show up in our plot.\ndummy_data = np.ones_like(coordinates[0])\ndummy_data[~mask] = np.nan\n\n# Make a plot of the masked data and the data locations.\ncrs = ccrs.PlateCarree()\nplt.figure(figsize=(7, 6))\nax = plt.axes(projection=ccrs.Mercator())\nax.set_title(\"Only keep grid points that are close to data\")\nax.plot(data.longitude, data.latitude, \".y\", markersize=0.5, transform=crs)\nax.pcolormesh(*coordinates, dummy_data, transform=crs)\nvd.datasets.setup_baja_bathymetry_map(ax, land=None)\nplt.show()"
      ]
    }
  ],
  "metadata": {
    "kernelspec": {
      "display_name": "Python 3",
      "language": "python",
      "name": "python3"
    },
    "language_info": {
      "codemirror_mode": {
        "name": "ipython",
        "version": 3
      },
      "file_extension": ".py",
      "mimetype": "text/x-python",
      "name": "python",
      "nbconvert_exporter": "python",
      "pygments_lexer": "ipython3",
      "version": "3.9.13"
    }
  },
  "nbformat": 4,
  "nbformat_minor": 0
}